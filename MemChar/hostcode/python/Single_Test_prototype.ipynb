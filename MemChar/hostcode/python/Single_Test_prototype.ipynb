{
 "cells": [
  {
   "cell_type": "code",
   "execution_count": 1,
   "id": "5167c73b",
   "metadata": {},
   "outputs": [],
   "source": [
    "# import pynnq and numpy libraries\n",
    "from pynq import Overlay\n",
    "from pynq import allocate\n",
    "import time\n",
    "import numpy as np"
   ]
  },
  {
   "cell_type": "code",
   "execution_count": 2,
   "id": "ee41c137",
   "metadata": {},
   "outputs": [
    {
     "data": {
      "application/javascript": [
       "\n",
       "try {\n",
       "require(['notebook/js/codecell'], function(codecell) {\n",
       "  codecell.CodeCell.options_default.highlight_modes[\n",
       "      'magic_text/x-csrc'] = {'reg':[/^%%microblaze/]};\n",
       "  Jupyter.notebook.events.one('kernel_ready.Kernel', function(){\n",
       "      Jupyter.notebook.get_cells().map(function(cell){\n",
       "          if (cell.cell_type == 'code'){ cell.auto_highlight(); } }) ;\n",
       "  });\n",
       "});\n",
       "} catch (e) {};\n"
      ]
     },
     "metadata": {},
     "output_type": "display_data"
    },
    {
     "data": {
      "application/javascript": [
       "\n",
       "try {\n",
       "require(['notebook/js/codecell'], function(codecell) {\n",
       "  codecell.CodeCell.options_default.highlight_modes[\n",
       "      'magic_text/x-csrc'] = {'reg':[/^%%pybind11/]};\n",
       "  Jupyter.notebook.events.one('kernel_ready.Kernel', function(){\n",
       "      Jupyter.notebook.get_cells().map(function(cell){\n",
       "          if (cell.cell_type == 'code'){ cell.auto_highlight(); } }) ;\n",
       "  });\n",
       "});\n",
       "} catch (e) {};\n"
      ]
     },
     "metadata": {},
     "output_type": "display_data"
    }
   ],
   "source": [
    "# carico il bitstream\n",
    "overlay = Overlay(\"./Memory_Char_wrapper.xsa\")"
   ]
  },
  {
   "cell_type": "code",
   "execution_count": 3,
   "id": "6d8c7da2",
   "metadata": {},
   "outputs": [],
   "source": [
    "#show overlay documentation\n",
    "#overlay?"
   ]
  },
  {
   "cell_type": "code",
   "execution_count": 4,
   "id": "fbd9844a",
   "metadata": {},
   "outputs": [],
   "source": [
    "ddrbench_ip =  overlay.ddrbenchmark2_0"
   ]
  },
  {
   "cell_type": "code",
   "execution_count": 5,
   "id": "7e82386d",
   "metadata": {},
   "outputs": [],
   "source": [
    "#ddrbench_ip?"
   ]
  },
  {
   "cell_type": "code",
   "execution_count": 6,
   "id": "0c6712ec",
   "metadata": {},
   "outputs": [],
   "source": [
    "#show ddrbenchmark ip registers map\n",
    "#ddrbench_ip.register_map"
   ]
  },
  {
   "cell_type": "code",
   "execution_count": 7,
   "id": "11a00fbe",
   "metadata": {},
   "outputs": [],
   "source": [
    "#show CTRL registers\n",
    "#ddrbench_ip.register_map.CTRL"
   ]
  },
  {
   "cell_type": "code",
   "execution_count": 8,
   "id": "e2997d94",
   "metadata": {},
   "outputs": [],
   "source": [
    "#read ddrbenchamark ip register at 0x00 address\n",
    "#ddrbench_ip.read(0x00)"
   ]
  },
  {
   "cell_type": "code",
   "execution_count": 9,
   "id": "12ade72f",
   "metadata": {},
   "outputs": [],
   "source": [
    "#create test buffer\n",
    "input_1=np.random.randint(low=0,high=255,size=(1000),dtype=np.int64)\n",
    "#input_1"
   ]
  },
  {
   "cell_type": "code",
   "execution_count": 10,
   "id": "24f9c70b",
   "metadata": {},
   "outputs": [],
   "source": [
    "buf_in = allocate(1000,np.int64)"
   ]
  },
  {
   "cell_type": "code",
   "execution_count": 11,
   "id": "ebc6fc09",
   "metadata": {},
   "outputs": [],
   "source": [
    "buf_in[:]=input_1.ravel()[:]"
   ]
  },
  {
   "cell_type": "code",
   "execution_count": 12,
   "id": "8e1ab273",
   "metadata": {},
   "outputs": [],
   "source": [
    "#buf_in.flush"
   ]
  },
  {
   "cell_type": "code",
   "execution_count": null,
   "id": "77ad900d",
   "metadata": {},
   "outputs": [],
   "source": []
  },
  {
   "cell_type": "code",
   "execution_count": 13,
   "id": "53f90784",
   "metadata": {},
   "outputs": [],
   "source": [
    "buf_out = allocate(1000,np.int64)"
   ]
  },
  {
   "cell_type": "code",
   "execution_count": null,
   "id": "97a9d54f",
   "metadata": {},
   "outputs": [],
   "source": []
  },
  {
   "cell_type": "code",
   "execution_count": 14,
   "id": "24ed23ed",
   "metadata": {},
   "outputs": [],
   "source": [
    "ddrbench_ip.write(0x10,buf_in.physical_address)\n",
    "ddrbench_ip.write(0x1c,buf_out.physical_address)"
   ]
  },
  {
   "cell_type": "code",
   "execution_count": null,
   "id": "242b8b19",
   "metadata": {},
   "outputs": [],
   "source": []
  },
  {
   "cell_type": "code",
   "execution_count": 15,
   "id": "0f0e0abf",
   "metadata": {},
   "outputs": [],
   "source": [
    "start = time.time();\n",
    "ddrbench_ip.write(0x00,1)\n",
    "while(ddrbench_ip.read(0x00) & 0x04 !=0x04):pass\n",
    "end = time.time()"
   ]
  },
  {
   "cell_type": "code",
   "execution_count": null,
   "id": "be1a4e4f",
   "metadata": {},
   "outputs": [],
   "source": []
  },
  {
   "cell_type": "code",
   "execution_count": 16,
   "id": "e2290e97",
   "metadata": {},
   "outputs": [],
   "source": [
    "buf_out.invalidate()"
   ]
  },
  {
   "cell_type": "code",
   "execution_count": 17,
   "id": "8cf08311",
   "metadata": {},
   "outputs": [],
   "source": [
    "#buf_out"
   ]
  },
  {
   "cell_type": "code",
   "execution_count": 18,
   "id": "78cdb34f",
   "metadata": {},
   "outputs": [
    {
     "name": "stdout",
     "output_type": "stream",
     "text": [
      "True\n"
     ]
    }
   ],
   "source": [
    "print(np.all(input_1 == buf_out))"
   ]
  },
  {
   "cell_type": "code",
   "execution_count": 19,
   "id": "0bf6ccdf",
   "metadata": {},
   "outputs": [
    {
     "name": "stdout",
     "output_type": "stream",
     "text": [
      "0.004511356353759766\n"
     ]
    }
   ],
   "source": [
    "print(end-start)"
   ]
  },
  {
   "cell_type": "code",
   "execution_count": null,
   "id": "e56a0700",
   "metadata": {},
   "outputs": [],
   "source": []
  }
 ],
 "metadata": {
  "kernelspec": {
   "display_name": "Python 3 (ipykernel)",
   "language": "python",
   "name": "python3"
  },
  "language_info": {
   "codemirror_mode": {
    "name": "ipython",
    "version": 3
   },
   "file_extension": ".py",
   "mimetype": "text/x-python",
   "name": "python",
   "nbconvert_exporter": "python",
   "pygments_lexer": "ipython3",
   "version": "3.10.4"
  }
 },
 "nbformat": 4,
 "nbformat_minor": 5
}
