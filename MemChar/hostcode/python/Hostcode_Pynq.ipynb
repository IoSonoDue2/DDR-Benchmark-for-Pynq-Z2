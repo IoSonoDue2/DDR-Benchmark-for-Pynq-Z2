{
 "cells": [
  {
   "cell_type": "code",
   "execution_count": 1,
   "id": "565792c7",
   "metadata": {
    "extensions": {
     "jupyter_dashboards": {
      "version": 1,
      "views": {
       "default_view": {
        "hidden": true
       }
      }
     }
    }
   },
   "outputs": [],
   "source": [
    "# import pynq,numpy and time libraries\n",
    "from pynq import Overlay\n",
    "from pynq import allocate\n",
    "import time\n",
    "import numpy as np"
   ]
  },
  {
   "cell_type": "code",
   "execution_count": 2,
   "id": "28ec60ab",
   "metadata": {
    "extensions": {
     "jupyter_dashboards": {
      "version": 1,
      "views": {
       "default_view": {
        "hidden": true
       }
      }
     }
    }
   },
   "outputs": [
    {
     "data": {
      "application/javascript": [
       "\n",
       "try {\n",
       "require(['notebook/js/codecell'], function(codecell) {\n",
       "  codecell.CodeCell.options_default.highlight_modes[\n",
       "      'magic_text/x-csrc'] = {'reg':[/^%%microblaze/]};\n",
       "  Jupyter.notebook.events.one('kernel_ready.Kernel', function(){\n",
       "      Jupyter.notebook.get_cells().map(function(cell){\n",
       "          if (cell.cell_type == 'code'){ cell.auto_highlight(); } }) ;\n",
       "  });\n",
       "});\n",
       "} catch (e) {};\n"
      ]
     },
     "metadata": {},
     "output_type": "display_data"
    },
    {
     "data": {
      "application/javascript": [
       "\n",
       "try {\n",
       "require(['notebook/js/codecell'], function(codecell) {\n",
       "  codecell.CodeCell.options_default.highlight_modes[\n",
       "      'magic_text/x-csrc'] = {'reg':[/^%%pybind11/]};\n",
       "  Jupyter.notebook.events.one('kernel_ready.Kernel', function(){\n",
       "      Jupyter.notebook.get_cells().map(function(cell){\n",
       "          if (cell.cell_type == 'code'){ cell.auto_highlight(); } }) ;\n",
       "  });\n",
       "});\n",
       "} catch (e) {};\n"
      ]
     },
     "metadata": {},
     "output_type": "display_data"
    }
   ],
   "source": [
    "# carico il bitstream\n",
    "overlay = Overlay(\"./ddrbenchmark3_wrapper.xsa\")"
   ]
  },
  {
   "cell_type": "code",
   "execution_count": 3,
   "id": "18c2dbb6",
   "metadata": {
    "extensions": {
     "jupyter_dashboards": {
      "version": 1,
      "views": {
       "default_view": {
        "hidden": true
       }
      }
     }
    }
   },
   "outputs": [],
   "source": [
    "ddrbench_ip =  overlay.ddrbenchmark2_0"
   ]
  },
  {
   "cell_type": "code",
   "execution_count": 4,
   "id": "642ed26d",
   "metadata": {
    "extensions": {
     "jupyter_dashboards": {
      "version": 1,
      "views": {
       "default_view": {
        "hidden": true
       }
      }
     }
    }
   },
   "outputs": [],
   "source": [
    "# multiple tests \n",
    "def multipleTests(buffer_in,buffer_out,repetition):\n",
    "    sum =0.0\n",
    "    \n",
    "    rep=0  \n",
    "    \n",
    "    for i in range(repetition):\n",
    "        input=np.random.randint(low=0,high=8192,size=(16000),dtype=np.int64)\n",
    "        buffer_in[:]=input.ravel()[:]\n",
    "        buffer_out[:]=0\n",
    "        ddrbench_ip.write(0x10,buffer_in.physical_address)\n",
    "        ddrbench_ip.write(0x1c,buffer_out.physical_address)\n",
    "        start = time.time();\n",
    "        ddrbench_ip.write(0x00,1)\n",
    "        while(ddrbench_ip.read(0x00) & 0x04 !=0x04):pass\n",
    "        end = time.time()\n",
    "        buf_out.invalidate()\n",
    "        if(np.all(input == buffer_out)):\n",
    "            if(i==0 or (end-start)*1000000<best):best=(end-start)*1000000;\n",
    "            if(i==0 or (end-start)*1000000>worst):worst=(end-start)*1000000;\n",
    "            print(\"test \",i,\": \",\"time:\",(end-start)*1000000,\"µs\",\"Bandwidth:\",136000/((end-start)*1000000),\"MB/s\")\n",
    "            sum = sum + end-start\n",
    "            rep = rep+1\n",
    "    print(\"executed\",rep,\"tests\",\"Average_time:\", sum/rep*1000000,\"µs\")\n",
    "    print(\"Best_time:\", best,\"µs\",\"  Worst_time:\",worst,\"µs\" ,\"Avg_Bandwidth: \",136000/((sum/rep)*1000000),\"MB/s\")"
   ]
  },
  {
   "cell_type": "code",
   "execution_count": 5,
   "id": "b382f6c4",
   "metadata": {
    "extensions": {
     "jupyter_dashboards": {
      "version": 1,
      "views": {
       "default_view": {
        "hidden": true
       }
      }
     }
    }
   },
   "outputs": [],
   "source": [
    "def singleTest(buffer_in,buffer_out):\n",
    "    input=np.random.randint(low=0,high=8192,size=(16000),dtype=np.int64)\n",
    "    buffer_in[:]=input.ravel()[:]\n",
    "    buffer_out[:]=0\n",
    "    ddrbench_ip.write(0x10,buffer_in.physical_address)\n",
    "    ddrbench_ip.write(0x1c,buffer_out.physical_address)\n",
    "    start = time.time();\n",
    "    ddrbench_ip.write(0x00,1)\n",
    "    while(ddrbench_ip.read(0x00) & 0x04 !=0x04):pass\n",
    "    end = time.time()\n",
    "    buf_out.invalidate()\n",
    "    if(np.all(input == buffer_out)):\n",
    "            print(\"test executed, time:\",(end-start)*1000000,\"µs\",\"Bandwidth:\",136000/((end-start)*1000000),\"MB/s\")"
   ]
  },
  {
   "cell_type": "code",
   "execution_count": 6,
   "id": "9708ee5b",
   "metadata": {
    "extensions": {
     "jupyter_dashboards": {
      "version": 1,
      "views": {
       "default_view": {
        "col": 0,
        "height": 2,
        "row": 0,
        "width": 1
       }
      }
     }
    }
   },
   "outputs": [
    {
     "name": "stdout",
     "output_type": "stream",
     "text": [
      "test executed, time: 284.6717834472656 µs\n",
      "test  0 :  time: 283.7181091308594 µs\n",
      "test  1 :  time: 274.1813659667969 µs\n",
      "test  2 :  time: 262.97569274902344 µs\n",
      "test  3 :  time: 264.88304138183594 µs\n",
      "test  4 :  time: 279.6649932861328 µs\n",
      "test  5 :  time: 278.71131896972656 µs\n",
      "test  6 :  time: 277.2808074951172 µs\n",
      "test  7 :  time: 265.1214599609375 µs\n",
      "test  8 :  time: 276.5655517578125 µs\n",
      "test  9 :  time: 264.16778564453125 µs\n",
      "test  10 :  time: 267.26722717285156 µs\n",
      "test  11 :  time: 263.6909484863281 µs\n",
      "test  12 :  time: 281.0955047607422 µs\n",
      "test  13 :  time: 263.6909484863281 µs\n",
      "test  14 :  time: 279.42657470703125 µs\n",
      "test  15 :  time: 277.9960632324219 µs\n",
      "test  16 :  time: 263.6909484863281 µs\n",
      "test  17 :  time: 263.6909484863281 µs\n",
      "test  18 :  time: 262.0220184326172 µs\n",
      "test  19 :  time: 263.214111328125 µs\n",
      "test  20 :  time: 262.97569274902344 µs\n",
      "test  21 :  time: 279.1881561279297 µs\n",
      "test  22 :  time: 277.2808074951172 µs\n",
      "test  23 :  time: 276.5655517578125 µs\n",
      "test  24 :  time: 278.9497375488281 µs\n",
      "test  25 :  time: 278.472900390625 µs\n",
      "test  26 :  time: 277.0423889160156 µs\n",
      "test  27 :  time: 278.23448181152344 µs\n",
      "test  28 :  time: 276.0887145996094 µs\n",
      "test  29 :  time: 276.5655517578125 µs\n",
      "test  30 :  time: 278.23448181152344 µs\n",
      "test  31 :  time: 277.0423889160156 µs\n",
      "test  32 :  time: 271.5587615966797 µs\n",
      "test  33 :  time: 267.02880859375 µs\n",
      "test  34 :  time: 270.3666687011719 µs\n",
      "test  35 :  time: 276.5655517578125 µs\n",
      "test  36 :  time: 269.4129943847656 µs\n",
      "test  37 :  time: 264.6446228027344 µs\n",
      "test  38 :  time: 271.08192443847656 µs\n",
      "test  39 :  time: 266.5519714355469 µs\n",
      "test  40 :  time: 267.5056457519531 µs\n",
      "test  41 :  time: 301.59950256347656 µs\n",
      "test  42 :  time: 267.98248291015625 µs\n",
      "test  43 :  time: 266.79039001464844 µs\n",
      "test  44 :  time: 264.88304138183594 µs\n",
      "test  45 :  time: 267.7440643310547 µs\n",
      "test  46 :  time: 268.2209014892578 µs\n",
      "test  47 :  time: 268.9361572265625 µs\n",
      "test  48 :  time: 266.5519714355469 µs\n",
      "test  49 :  time: 264.88304138183594 µs\n",
      "test  50 :  time: 269.6514129638672 µs\n",
      "test  51 :  time: 266.07513427734375 µs\n",
      "test  52 :  time: 269.6514129638672 µs\n",
      "test  53 :  time: 269.17457580566406 µs\n",
      "test  54 :  time: 328.7792205810547 µs\n",
      "test  55 :  time: 263.6909484863281 µs\n",
      "test  56 :  time: 270.843505859375 µs\n",
      "test  57 :  time: 268.2209014892578 µs\n",
      "test  58 :  time: 265.5982971191406 µs\n",
      "test  59 :  time: 280.14183044433594 µs\n",
      "test  60 :  time: 267.26722717285156 µs\n",
      "test  61 :  time: 265.8367156982422 µs\n",
      "test  62 :  time: 266.3135528564453 µs\n",
      "test  63 :  time: 264.4062042236328 µs\n",
      "test  64 :  time: 267.5056457519531 µs\n",
      "test  65 :  time: 267.02880859375 µs\n",
      "test  66 :  time: 279.6649932861328 µs\n",
      "test  67 :  time: 269.17457580566406 µs\n",
      "test  68 :  time: 271.5587615966797 µs\n",
      "test  69 :  time: 263.9293670654297 µs\n",
      "test  70 :  time: 262.26043701171875 µs\n",
      "test  71 :  time: 262.0220184326172 µs\n",
      "test  72 :  time: 275.8502960205078 µs\n",
      "test  73 :  time: 278.23448181152344 µs\n",
      "test  74 :  time: 277.2808074951172 µs\n",
      "test  75 :  time: 262.7372741699219 µs\n",
      "test  76 :  time: 261.7835998535156 µs\n",
      "test  77 :  time: 263.214111328125 µs\n",
      "test  78 :  time: 279.9034118652344 µs\n",
      "test  79 :  time: 279.1881561279297 µs\n",
      "test  80 :  time: 277.2808074951172 µs\n",
      "test  81 :  time: 332.83233642578125 µs\n",
      "test  82 :  time: 277.7576446533203 µs\n",
      "test  83 :  time: 262.0220184326172 µs\n",
      "test  84 :  time: 278.9497375488281 µs\n",
      "test  85 :  time: 279.9034118652344 µs\n",
      "test  86 :  time: 279.1881561279297 µs\n",
      "test  87 :  time: 260.8299255371094 µs\n",
      "test  88 :  time: 279.1881561279297 µs\n",
      "test  89 :  time: 264.4062042236328 µs\n",
      "test  90 :  time: 277.0423889160156 µs\n",
      "test  91 :  time: 265.35987854003906 µs\n",
      "test  92 :  time: 266.5519714355469 µs\n",
      "test  93 :  time: 265.5982971191406 µs\n",
      "test  94 :  time: 265.8367156982422 µs\n",
      "test  95 :  time: 263.6909484863281 µs\n",
      "test  96 :  time: 270.1282501220703 µs\n",
      "test  97 :  time: 267.26722717285156 µs\n",
      "test  98 :  time: 267.98248291015625 µs\n",
      "test  99 :  time: 275.8502960205078 µs\n",
      "executed 100 tests Average_time: 272.066593170166 µs\n",
      "Best_time: 260.8299255371094 µs   Worst_time: 332.83233642578125 µs\n"
     ]
    }
   ],
   "source": [
    "buf_in = allocate(16000,np.int64)\n",
    "buf_out = allocate(16000,np.int64)\n",
    "singleTest(buf_in,buf_out)\n",
    "multipleTests(buf_in,buf_out,100)"
   ]
  },
  {
   "cell_type": "code",
   "execution_count": null,
   "id": "1b0e201b",
   "metadata": {},
   "outputs": [],
   "source": []
  }
 ],
 "metadata": {
  "extensions": {
   "jupyter_dashboards": {
    "activeView": "default_view",
    "version": 1,
    "views": {
     "default_view": {
      "cellMargin": 10,
      "defaultCellHeight": 40,
      "maxColumns": 12,
      "name": "active_view",
      "type": "grid"
     }
    }
   }
  },
  "kernelspec": {
   "display_name": "Python 3 (ipykernel)",
   "language": "python",
   "name": "python3"
  },
  "language_info": {
   "codemirror_mode": {
    "name": "ipython",
    "version": 3
   },
   "file_extension": ".py",
   "mimetype": "text/x-python",
   "name": "python",
   "nbconvert_exporter": "python",
   "pygments_lexer": "ipython3",
   "version": "3.10.4"
  }
 },
 "nbformat": 4,
 "nbformat_minor": 5
}
