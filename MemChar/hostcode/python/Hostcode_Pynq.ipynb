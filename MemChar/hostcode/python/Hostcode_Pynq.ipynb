{
 "cells": [
  {
   "cell_type": "code",
   "execution_count": 1,
   "id": "565792c7",
   "metadata": {
    "extensions": {
     "jupyter_dashboards": {
      "version": 1,
      "views": {
       "default_view": {
        "hidden": true
       }
      }
     }
    }
   },
   "outputs": [],
   "source": [
    "# import pynq,numpy and time libraries\n",
    "from pynq import Overlay\n",
    "from pynq import allocate\n",
    "import time\n",
    "import numpy as np"
   ]
  },
  {
   "cell_type": "code",
   "execution_count": 2,
   "id": "28ec60ab",
   "metadata": {
    "extensions": {
     "jupyter_dashboards": {
      "version": 1,
      "views": {
       "default_view": {
        "hidden": true
       }
      }
     }
    }
   },
   "outputs": [
    {
     "data": {
      "application/javascript": [
       "\n",
       "try {\n",
       "require(['notebook/js/codecell'], function(codecell) {\n",
       "  codecell.CodeCell.options_default.highlight_modes[\n",
       "      'magic_text/x-csrc'] = {'reg':[/^%%microblaze/]};\n",
       "  Jupyter.notebook.events.one('kernel_ready.Kernel', function(){\n",
       "      Jupyter.notebook.get_cells().map(function(cell){\n",
       "          if (cell.cell_type == 'code'){ cell.auto_highlight(); } }) ;\n",
       "  });\n",
       "});\n",
       "} catch (e) {};\n"
      ]
     },
     "metadata": {},
     "output_type": "display_data"
    },
    {
     "data": {
      "application/javascript": [
       "\n",
       "try {\n",
       "require(['notebook/js/codecell'], function(codecell) {\n",
       "  codecell.CodeCell.options_default.highlight_modes[\n",
       "      'magic_text/x-csrc'] = {'reg':[/^%%pybind11/]};\n",
       "  Jupyter.notebook.events.one('kernel_ready.Kernel', function(){\n",
       "      Jupyter.notebook.get_cells().map(function(cell){\n",
       "          if (cell.cell_type == 'code'){ cell.auto_highlight(); } }) ;\n",
       "  });\n",
       "});\n",
       "} catch (e) {};\n"
      ]
     },
     "metadata": {},
     "output_type": "display_data"
    }
   ],
   "source": [
    "# carico il bitstream\n",
    "overlay = Overlay(\"./Memory_Char_wrapper.xsa\")"
   ]
  },
  {
   "cell_type": "code",
   "execution_count": 3,
   "id": "18c2dbb6",
   "metadata": {
    "extensions": {
     "jupyter_dashboards": {
      "version": 1,
      "views": {
       "default_view": {
        "hidden": true
       }
      }
     }
    }
   },
   "outputs": [],
   "source": [
    "ddrbench_ip =  overlay.ddrbenchmark2_0"
   ]
  },
  {
   "cell_type": "code",
   "execution_count": 9,
   "id": "642ed26d",
   "metadata": {
    "extensions": {
     "jupyter_dashboards": {
      "version": 1,
      "views": {
       "default_view": {
        "hidden": true
       }
      }
     }
    }
   },
   "outputs": [],
   "source": [
    "# multiple tests \n",
    "def multipleTests(buffer_in,buffer_out,repetition):\n",
    "    sum =0.0\n",
    "    \n",
    "    rep=0  \n",
    "    \n",
    "    for i in range(repetition):\n",
    "        input=np.random.randint(low=0,high=8192,size=(1000),dtype=np.int64)\n",
    "        buffer_in[:]=input.ravel()[:]\n",
    "        buffer_out[:]=0\n",
    "        ddrbench_ip.write(0x10,buffer_in.physical_address)\n",
    "        ddrbench_ip.write(0x1c,buffer_out.physical_address)\n",
    "        start = time.time();\n",
    "        ddrbench_ip.write(0x00,1)\n",
    "        while(ddrbench_ip.read(0x00) & 0x04 !=0x04):pass\n",
    "        end = time.time()\n",
    "        buf_out.invalidate()\n",
    "        if(np.all(input == buffer_out)):\n",
    "            if(i==0 or (end-start)*1000000<best):best=(end-start)*1000000;\n",
    "            if(i==0 or (end-start)*1000000>worst):worst=(end-start)*1000000;\n",
    "            print(\"test \",i,\": \",\"time:\",(end-start)*1000000,\"µs\")\n",
    "            sum = sum + end-start\n",
    "            rep = rep+1\n",
    "    print(\"executed\",rep,\"tests\",\"Average_time:\", sum/rep*1000000,\"µs\")\n",
    "    print(\"Best_time:\", best,\"µs\",\"  Worst_time:\",worst,\"µs\")"
   ]
  },
  {
   "cell_type": "code",
   "execution_count": 10,
   "id": "b382f6c4",
   "metadata": {
    "extensions": {
     "jupyter_dashboards": {
      "version": 1,
      "views": {
       "default_view": {
        "hidden": true
       }
      }
     }
    }
   },
   "outputs": [],
   "source": [
    "def singleTest(buffer_in,buffer_out):\n",
    "    input=np.random.randint(low=0,high=8192,size=(1000),dtype=np.int64)\n",
    "    buffer_in[:]=input.ravel()[:]\n",
    "    buffer_out[:]=0\n",
    "    ddrbench_ip.write(0x10,buffer_in.physical_address)\n",
    "    ddrbench_ip.write(0x1c,buffer_out.physical_address)\n",
    "    start = time.time();\n",
    "    ddrbench_ip.write(0x00,1)\n",
    "    while(ddrbench_ip.read(0x00) & 0x04 !=0x04):pass\n",
    "    end = time.time()\n",
    "    buf_out.invalidate()\n",
    "    if(np.all(input == buffer_out)):\n",
    "            print(\"test executed, time:\",(end-start)*1000000,\"µs\")"
   ]
  },
  {
   "cell_type": "code",
   "execution_count": 11,
   "id": "9708ee5b",
   "metadata": {
    "extensions": {
     "jupyter_dashboards": {
      "version": 1,
      "views": {
       "default_view": {
        "col": 0,
        "height": 2,
        "row": 0,
        "width": 1
       }
      }
     }
    }
   },
   "outputs": [
    {
     "name": "stdout",
     "output_type": "stream",
     "text": [
      "test executed, time: 81.53915405273438 ms\n",
      "test  0 :  time: 80.82389831542969 ms\n",
      "test  1 :  time: 82.0159912109375 ms\n",
      "test  2 :  time: 74.3865966796875 ms\n",
      "test  3 :  time: 78.67813110351562 ms\n",
      "test  4 :  time: 74.14817810058594 ms\n",
      "test  5 :  time: 73.90975952148438 ms\n",
      "test  6 :  time: 75.57868957519531 ms\n",
      "test  7 :  time: 75.34027099609375 ms\n",
      "test  8 :  time: 74.62501525878906 ms\n",
      "test  9 :  time: 70.33348083496094 ms\n",
      "test  10 :  time: 66.99562072753906 ms\n",
      "test  11 :  time: 63.89617919921875 ms\n",
      "test  12 :  time: 63.89617919921875 ms\n",
      "test  13 :  time: 65.08827209472656 ms\n",
      "test  14 :  time: 64.13459777832031 ms\n",
      "test  15 :  time: 63.65776062011719 ms\n",
      "test  16 :  time: 61.98883056640625 ms\n",
      "test  17 :  time: 62.9425048828125 ms\n",
      "test  18 :  time: 65.56510925292969 ms\n",
      "test  19 :  time: 62.70408630371094 ms\n",
      "test  20 :  time: 62.70408630371094 ms\n",
      "test  21 :  time: 62.22724914550781 ms\n",
      "test  22 :  time: 64.13459777832031 ms\n",
      "test  23 :  time: 65.56510925292969 ms\n",
      "test  24 :  time: 62.9425048828125 ms\n",
      "test  25 :  time: 62.70408630371094 ms\n",
      "test  26 :  time: 62.22724914550781 ms\n",
      "test  27 :  time: 61.98883056640625 ms\n",
      "test  28 :  time: 64.37301635742188 ms\n",
      "test  29 :  time: 63.419342041015625 ms\n",
      "test  30 :  time: 64.13459777832031 ms\n",
      "test  31 :  time: 63.419342041015625 ms\n",
      "test  32 :  time: 63.65776062011719 ms\n",
      "test  33 :  time: 62.465667724609375 ms\n",
      "test  34 :  time: 63.89617919921875 ms\n",
      "test  35 :  time: 63.419342041015625 ms\n",
      "test  36 :  time: 62.465667724609375 ms\n",
      "test  37 :  time: 62.22724914550781 ms\n",
      "test  38 :  time: 61.98883056640625 ms\n",
      "test  39 :  time: 63.18092346191406 ms\n",
      "test  40 :  time: 62.465667724609375 ms\n",
      "test  41 :  time: 62.22724914550781 ms\n",
      "test  42 :  time: 62.70408630371094 ms\n",
      "test  43 :  time: 62.22724914550781 ms\n",
      "test  44 :  time: 64.37301635742188 ms\n",
      "test  45 :  time: 63.419342041015625 ms\n",
      "test  46 :  time: 62.70408630371094 ms\n",
      "test  47 :  time: 62.70408630371094 ms\n",
      "test  48 :  time: 62.70408630371094 ms\n",
      "test  49 :  time: 63.419342041015625 ms\n",
      "test  50 :  time: 62.22724914550781 ms\n",
      "test  51 :  time: 63.89617919921875 ms\n",
      "test  52 :  time: 63.65776062011719 ms\n",
      "test  53 :  time: 61.98883056640625 ms\n",
      "test  54 :  time: 64.13459777832031 ms\n",
      "test  55 :  time: 64.13459777832031 ms\n",
      "test  56 :  time: 64.13459777832031 ms\n",
      "test  57 :  time: 62.9425048828125 ms\n",
      "test  58 :  time: 61.98883056640625 ms\n",
      "test  59 :  time: 62.22724914550781 ms\n",
      "test  60 :  time: 61.98883056640625 ms\n",
      "test  61 :  time: 62.465667724609375 ms\n",
      "test  62 :  time: 63.419342041015625 ms\n",
      "test  63 :  time: 61.511993408203125 ms\n",
      "test  64 :  time: 60.558319091796875 ms\n",
      "test  65 :  time: 65.08827209472656 ms\n",
      "test  66 :  time: 62.465667724609375 ms\n",
      "test  67 :  time: 62.70408630371094 ms\n",
      "test  68 :  time: 62.22724914550781 ms\n",
      "test  69 :  time: 62.70408630371094 ms\n",
      "test  70 :  time: 62.70408630371094 ms\n",
      "test  71 :  time: 63.419342041015625 ms\n",
      "test  72 :  time: 62.9425048828125 ms\n",
      "test  73 :  time: 62.465667724609375 ms\n",
      "test  74 :  time: 62.70408630371094 ms\n",
      "test  75 :  time: 64.61143493652344 ms\n",
      "test  76 :  time: 62.9425048828125 ms\n",
      "test  77 :  time: 62.465667724609375 ms\n",
      "test  78 :  time: 63.65776062011719 ms\n",
      "test  79 :  time: 62.70408630371094 ms\n",
      "test  80 :  time: 110.626220703125 ms\n",
      "test  81 :  time: 62.70408630371094 ms\n",
      "test  82 :  time: 61.03515625 ms\n",
      "test  83 :  time: 63.65776062011719 ms\n",
      "test  84 :  time: 63.419342041015625 ms\n",
      "test  85 :  time: 62.9425048828125 ms\n",
      "test  86 :  time: 63.18092346191406 ms\n",
      "test  87 :  time: 62.9425048828125 ms\n",
      "test  88 :  time: 64.61143493652344 ms\n",
      "test  89 :  time: 61.98883056640625 ms\n",
      "test  90 :  time: 62.9425048828125 ms\n",
      "test  91 :  time: 64.849853515625 ms\n",
      "test  92 :  time: 62.465667724609375 ms\n",
      "test  93 :  time: 63.89617919921875 ms\n",
      "test  94 :  time: 63.89617919921875 ms\n",
      "test  95 :  time: 62.70408630371094 ms\n",
      "test  96 :  time: 62.9425048828125 ms\n",
      "test  97 :  time: 63.65776062011719 ms\n",
      "test  98 :  time: 62.70408630371094 ms\n",
      "test  99 :  time: 63.65776062011719 ms\n",
      "executted 100 tests average time: 64.90707397460938 ms\n",
      "best time: 60.558319091796875 ms   worst time: 110.626220703125 ms\n"
     ]
    }
   ],
   "source": [
    "buf_in = allocate(1000,np.int64)\n",
    "buf_out = allocate(1000,np.int64)\n",
    "singleTest(buf_in,buf_out)\n",
    "multipleTests(buf_in,buf_out,100)"
   ]
  },
  {
   "cell_type": "code",
   "execution_count": null,
   "id": "1b0e201b",
   "metadata": {},
   "outputs": [],
   "source": []
  }
 ],
 "metadata": {
  "extensions": {
   "jupyter_dashboards": {
    "activeView": "default_view",
    "version": 1,
    "views": {
     "default_view": {
      "cellMargin": 10,
      "defaultCellHeight": 40,
      "maxColumns": 12,
      "name": "active_view",
      "type": "grid"
     }
    }
   }
  },
  "kernelspec": {
   "display_name": "Python 3 (ipykernel)",
   "language": "python",
   "name": "python3"
  },
  "language_info": {
   "codemirror_mode": {
    "name": "ipython",
    "version": 3
   },
   "file_extension": ".py",
   "mimetype": "text/x-python",
   "name": "python",
   "nbconvert_exporter": "python",
   "pygments_lexer": "ipython3",
   "version": "3.10.4"
  }
 },
 "nbformat": 4,
 "nbformat_minor": 5
}
